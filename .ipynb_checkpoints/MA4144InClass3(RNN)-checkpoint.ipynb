{
 "cells": [
  {
   "cell_type": "markdown",
   "id": "dda0e25f-476a-43c0-b3e7-f96a707be566",
   "metadata": {
    "deletable": false,
    "editable": false
   },
   "source": [
    "# <center>Recurrent Neural Networks</center>\n",
    "## <center>Inclass Project 3 - MA4144</center>\n",
    "\n",
    "This project contains 10 tasks/questions to be completed, some require written answers. Open a markdown cell below the respective question that require written answers and provide (type) your answers. Questions that required written answers are given in blue fonts. Almost all written questions are open ended, they do not have a correct or wrong answer. You are free to give your opinions, but please provide related answers within the context.\n",
    "\n",
    "After finishing project run the entire notebook once and **save the notebook as a pdf** (File menu -> Save and Export Notebook As -> PDF). You are **required to upload this PDF on moodle**.\n",
    "\n",
    "***"
   ]
  },
  {
   "cell_type": "markdown",
   "id": "03930b71-f7aa-4eb8-a078-70fc89a1ac16",
   "metadata": {
    "deletable": false,
    "editable": false
   },
   "source": [
    "## Outline of the project\n",
    "\n",
    "The aim of the project is to build a RNN model to suggest autocompletion of half typed words. You may have seen this in many day today applications; typing an email, a text message etc. For example, suppose you type in the four letter \"univ\", the application may suggest you to autocomplete it by \"university\".\n",
    "\n",
    "![Autocomplete](https://d33v4339jhl8k0.cloudfront.net/docs/assets/5c12e83004286304a71d5b72/images/66d0cb106eb51e63b8f9fbc6/file-gBQe016VYt.gif)\n",
    "\n",
    "We will train a RNN to suggest possible autocompletes given $3$ - $4$ starting letters. That is if we input a string \"univ\" hopefully we expect to see an output like \"university\", \"universal\" etc.\n",
    "\n",
    "For this we will use a text file (wordlist.txt) containing 10,000 common English words (you'll find the file on the moodle link). The list of words will be the \"**vocabulary**\" for our model.\n",
    "\n",
    "We will use the Python **torch library** to implement our autocomplete model. \n",
    "\n",
    "***\n"
   ]
  },
  {
   "cell_type": "markdown",
   "id": "f4db6bc0-f7e0-473d-a172-e6579deea2ee",
   "metadata": {
    "deletable": false,
    "editable": false
   },
   "source": [
    "Use the below cell to use any include any imports"
   ]
  },
  {
   "cell_type": "code",
   "execution_count": 1,
   "id": "76fdc286-3211-4a8f-9802-29d28a324bea",
   "metadata": {},
   "outputs": [],
   "source": [
    "import torch\n",
    "import torch.nn as nn\n",
    "import torch.optim as optim\n",
    "import numpy as np\n",
    "import matplotlib.pyplot as plt\n",
    "import random"
   ]
  },
  {
   "cell_type": "markdown",
   "id": "8622b61b-dba8-47bb-8e07-92b77e78f4fa",
   "metadata": {
    "deletable": false,
    "editable": false
   },
   "source": [
    "## Section 1: Preparing the vocabulary"
   ]
  },
  {
   "cell_type": "code",
   "execution_count": 2,
   "id": "555a82e5-e56c-4075-a2a2-071633cd4d4c",
   "metadata": {},
   "outputs": [],
   "source": [
    "WORD_SIZE = 13"
   ]
  },
  {
   "cell_type": "markdown",
   "id": "ef4f44ef-91d0-4d0e-afb5-a66240c9e1d4",
   "metadata": {
    "deletable": false,
    "editable": false
   },
   "source": [
    "**Q1.** In the following cell provide code to load the text file (each word is in a newline), then extract the words (in lowercase) into a list.\n",
    "\n",
    "For practical reasons of training the model we will only use words that are longer that $3$ letters and that have a maximum length of WORD_SIZE (this will be a constant we set at the beginning - you can change this and experiment with different WORD_SIZEs). As seen above it is set to $13$.\n",
    "\n",
    "So out of the extracted list of words filter out those words that match our criteria on word length.\n",
    "\n",
    "To train our model it is convenient to have words/strings of equal length. We will choose to convert every word to length of WORD_SIZE, by adding underscores to the end of the word if it is initially shorter than WORD_SIZE. For example, we will convert the word \"university\" (word length 10) into \"university___\" (wordlength 13). In your code include this conversion as well.\n",
    "\n",
    "Store the processed WORD_SIZE lengthed strings in a list called vocab."
   ]
  },
  {
   "cell_type": "code",
   "execution_count": 3,
   "id": "3219551c-a298-424a-a491-2d7f65a4ad6f",
   "metadata": {},
   "outputs": [
    {
     "name": "stdout",
     "output_type": "stream",
     "text": [
      "8847 words are in vocab\n",
      "['aaron________', 'abandoned____', 'aberdeen_____', 'abilities____', 'ability______', 'able_________', 'aboriginal___', 'abortion_____', 'about________', 'above________']\n"
     ]
    }
   ],
   "source": [
    "with open('wordlist.txt', 'r') as f:\n",
    "    words = f.read().splitlines()\n",
    "\n",
    "def pad_word(word):\n",
    "    return word + '_' * (WORD_SIZE - len(word))\n",
    "\n",
    "vocab = [pad_word(word.lower()) for word in words if 3 < len(word) <= WORD_SIZE]\n",
    "\n",
    "print(len(vocab),\"words are in vocab\")\n",
    "print(vocab[:10])"
   ]
  },
  {
   "cell_type": "markdown",
   "id": "69d3a6fe-c0a7-4808-aa1a-4c3ad6db6de3",
   "metadata": {
    "deletable": false,
    "editable": false
   },
   "source": [
    "<font color='blue'>In the above explanation it was mentioned \"for practical reasons of training the model we will only use words that are longer that $3$ letters and that have a certain maximum length\". In your opinion what could be those practical? Will hit help to build a better model?</font>"
   ]
  },
  {
   "cell_type": "markdown",
   "id": "aaf86cdd-96b2-40eb-8230-c3f04e93cfc4",
   "metadata": {},
   "source": [
    "**Answer** \n",
    "\n",
    "I think limiting words to those longer than 3 letters and up to a maximum length helps reduce computational complexity and memory usage during training. Short words often carry less meaningful information for autocompletion tasks, and very long words can introduce unnecessary complexity. By standardizing word lengths (padding shorter words), we simplify the model's input, making it easier to train and potentially improving its performance by focusing on words most relevant for autocompletion."
   ]
  },
  {
   "cell_type": "markdown",
   "id": "552b2e6d-f771-4782-8b21-73c121565faa",
   "metadata": {
    "deletable": false,
    "editable": false
   },
   "source": [
    "**Q2** To input words into the model, we will need to convert each letter/character into a number. as we have seen above, the only characters in our list vocab will be the underscore and lowercase english letters. so we will convert these $27$ characters into numbers as follows: underscore -> $0$, 'a' -> $1$, 'b' -> $2$, $\\cdots$, 'z' -> $26$. In the following cell,\n",
    "\n",
    "(i) Implement a method called char_to_num, that takes in a valid character and outputs its numerical assignment.\n",
    "\n",
    "(ii) Implement a method called num_to_char, that takes in a valid number from $0$ to $26$ and outputs the corresponding character.\n",
    "\n",
    "(iii) Implement a method called word_to_numlist, that takes in a word from our vocabulary and outputs a (torch) tensor of numbers that corresponds to each character in the word in that order. For example: the word \"united_______\" will be converted to tensor([21, 14,  9, 20,  5,  4,  0,  0,  0,  0,  0,  0,  0]). You are encouraged to use your char_to_num method for this.\n",
    "\n",
    "(iv) Implement a method called numlist_to_word, that does the opposite of the above described word_to_numlist, given a tensor of numbers from $0$ to $26$, outputs the corresponding word. You are encouraged to use your  num_to_char method for this.\n",
    "\n",
    "Note: As mentioned since we are using the torch library we will be using tensors instead of the usual python lists or numpy arrays. Tensors are the list equivalent in torch. Torch models only accept tensors as input and they output tensors."
   ]
  },
  {
   "cell_type": "code",
   "execution_count": 4,
   "id": "054a4ab4-5883-4948-adc5-eb8916b6234d",
   "metadata": {},
   "outputs": [
    {
     "name": "stdout",
     "output_type": "stream",
     "text": [
      "united_______ tensor([21, 14,  9, 20,  5,  4,  0,  0,  0,  0,  0,  0,  0])\n",
      "[21, 14,  9, 20,  5,  4,  0,  0,  0,  0,  0,  0,  0] united_______\n"
     ]
    }
   ],
   "source": [
    "def char_to_num(char):\n",
    "    # Map underscore to 0\n",
    "    # Map 'a' to 1, 'b' to 2, ..., 'z' to 26\n",
    "    if char == '_':\n",
    "        return 0\n",
    "    else:\n",
    "        return ord(char) - ord('a') + 1\n",
    "\n",
    "def num_to_char(num):\n",
    "    # Map 0 to underscore\n",
    "    # Map 1 to 'a', 2 to 'b', ..., 26 to 'z'\n",
    "    if num == 0:\n",
    "        return '_'\n",
    "    else:\n",
    "        return chr(num + ord('a') - 1)\n",
    "\n",
    "def word_to_numlist(word):\n",
    "    numlist = [char_to_num(char) for char in word]\n",
    "    numlist = torch.tensor(numlist, dtype=torch.long)\n",
    "    return numlist\n",
    "\n",
    "def numlist_to_word(numlist):\n",
    "    # Ensure numlist is a Python list\n",
    "    if isinstance(numlist, torch.Tensor):\n",
    "        numlist = numlist.tolist()\n",
    "    word = ''.join([num_to_char(num) for num in numlist])\n",
    "    return word\n",
    "\n",
    "print(\"united_______\", word_to_numlist(\"united_______\"))\n",
    "print(\"[21, 14,  9, 20,  5,  4,  0,  0,  0,  0,  0,  0,  0]\",numlist_to_word([21, 14,  9, 20,  5,  4,  0,  0,  0,  0,  0,  0,  0]))"
   ]
  },
  {
   "cell_type": "markdown",
   "id": "028d1936-fadb-4ddb-9027-3a75960aa6b1",
   "metadata": {
    "deletable": false,
    "editable": false
   },
   "source": [
    "<font color='blue'>We convert letter into just numbers based on their aphabetical order, I claim that it is a very bad way to encode data such as letters to be fed into learning models, please write your explanation to or against my claim. If you are searching for reasons, the keyword 'categorical data' may be useful. Although the letters in our case are not treated as categorical data, the same reasons as for categorical data is applicable. Even if my claim is valid, at the end it won't matter due to something called \"embedding layers\" that we will use in our model. What is an embedding layer? What is it's purpose? Explain.</font>"
   ]
  },
  {
   "cell_type": "markdown",
   "id": "65de3f69-cd06-4adc-8150-2522802f345a",
   "metadata": {},
   "source": [
    "**Answer** \n",
    "\n",
    "The claim is valid. Assigning numerical values to letters based on their alphabetical order introduces an unintended ordinal relationship between them. Since letters are categorical data, this encoding suggests that 'b' (2) is somehow greater than 'a' (1), which doesn't make sense linguistically. This can mislead learning models that interpret numerical inputs as having inherent magnitude or order, potentially degrading performance.\n",
    "\n",
    "An embedding layer addresses this issue by mapping each categorical input (like letters) to a dense vector of real numbers in a continuous vector space. The purpose of an embedding layer is to capture semantic relationships among categories without imposing arbitrary numerical order. It allows the model to learn meaningful representations of the input data, improving its ability to recognize patterns and make accurate predictions.\n",
    "\n",
    "Articles which I read for this part :\n",
    "\n",
    "  - [Encoding Categorical Data, Explained: A Visual Guide with Code Example for Beginners](https://towardsdatascience.com/encoding-categorical-data-explained-a-visual-guide-with-code-example-for-beginners-b169ac4193ae)\n",
    "\n",
    "  - [How to Deal with Categorical Data for Machine Learning](https://www.kdnuggets.com/2021/05/deal-with-categorical-data-machine-learning.html)\n",
    "\n",
    "  - [Neural Network Embeddings Explained](https://towardsdatascience.com/neural-network-embeddings-explained-4d028e6f0526)\n"
   ]
  },
  {
   "cell_type": "markdown",
   "id": "92070a74-0f42-435d-a3ba-b38f0d1aaf3c",
   "metadata": {
    "deletable": false,
    "editable": false
   },
   "source": [
    "## Section 2: Implementing the Autocomplete model"
   ]
  },
  {
   "cell_type": "markdown",
   "id": "6cbb965e-afcd-41ae-86f0-2f3d4682e18b",
   "metadata": {
    "deletable": false,
    "editable": false
   },
   "source": [
    "We will implement a RNN model based on LSTM. The [video tutorial](https://www.youtube.com/watch?v=tL5puCeDr-o) will be useful. Our model will be only one hidden layer, but feel free to sophisticate with more layers after the project for your own experiments.\n",
    "\n",
    "Our model will contain all the training and prediction methods as single package in a class (autocompleteModel) we will define and implement below."
   ]
  },
  {
   "cell_type": "code",
   "execution_count": 5,
   "id": "0dfe311c-669d-4d58-a833-ae3970b6d271",
   "metadata": {},
   "outputs": [],
   "source": [
    "LEARNING_RATE = 0.005"
   ]
  },
  {
   "cell_type": "code",
   "execution_count": 6,
   "id": "4976fc91-2c4e-497a-954e-9014dd31be5e",
   "metadata": {},
   "outputs": [],
   "source": [
    "class autocompleteModel(nn.Module):\n",
    "\n",
    "    #Constructor\n",
    "    def __init__(self, alphabet_size, embed_dim, hidden_size, num_layers):\n",
    "        super().__init__()\n",
    "\n",
    "        #Set the input parameters to self parameters\n",
    "        self.alphabet_size = alphabet_size  # Number of unique characters\n",
    "        self.embed_dim = embed_dim          # Dimension of the embedding vector\n",
    "        self.hidden_size = hidden_size      # Number of features in the hidden state\n",
    "        self.num_layers = num_layers        # Number of recurrent layers (LSTM layers)\n",
    "\n",
    "        #Initialize the layers in the model:\n",
    "        #1 embedding layer, 1 - LSTM cell (hidden layer), 1 fully connected layer with linear activation\n",
    "        self.embedding = nn.Embedding(num_embeddings=alphabet_size, embedding_dim=embed_dim)\n",
    "        self.lstm = nn.LSTM(input_size=embed_dim, hidden_size=hidden_size, num_layers=num_layers)\n",
    "        self.fc = nn.Linear(hidden_size, alphabet_size)\n",
    "\n",
    "    #Feedforward\n",
    "    def forward(self, character, hidden_state, cell_state):\n",
    "\n",
    "        #Perform feedforward in order\n",
    "        #1. Embed the input (one charcter represented by a number)\n",
    "        embedded = self.embedding(character.unsqueeze(0))  # Shape: [1, 1, embed_dim]\n",
    "        \n",
    "        #2. Feed the embedded output to the LSTM cell\n",
    "        output, (hidden_state, cell_state) = self.lstm(embedded, (hidden_state, cell_state)) # output shape: [1, 1, hidden_size]\n",
    "        \n",
    "        #3. Feed the LSTM output to the fully connected layer to obtain the output\n",
    "        output = self.fc(output.squeeze(0))  # Shape: [1, alphabet_size]\n",
    "        \n",
    "        #4. return the output, and both the hidden state and cell state from the LSTM cell output\n",
    "        return output, hidden_state, cell_state\n",
    "\n",
    "    #Intialize the first hidden state and cell state (for the start of a word) as zero tensors of required length.\n",
    "    def initial_state(self):\n",
    "\n",
    "        # Batch size is 1 since we're processing one word at a time\n",
    "        h0 = torch.zeros(self.num_layers, 1, self.hidden_size)\n",
    "        c0 = torch.zeros(self.num_layers, 1, self.hidden_size)\n",
    "        return (h0, c0)\n",
    "\n",
    "    #Train the model in epochs given the vocab, the training will be fed in batches of batch_size\n",
    "    def trainModel(self, vocab, epochs = 5, batch_size = 100):\n",
    "\n",
    "        #Convert the model into train mode\n",
    "        self.train()\n",
    "\n",
    "        #Set the optimizer (ADAM), you may need to provide the model parameters  and learning rate\n",
    "        optimizer = optim.Adam(self.parameters(), lr=LEARNING_RATE)\n",
    "\n",
    "        #Keep a log of the loss at the end of each training cycle.\n",
    "        loss_log = []\n",
    "\n",
    "        for e in range(epochs):\n",
    "\n",
    "            #Shuffle the vocab list the start of each epoch\n",
    "            random.shuffle(vocab)\n",
    "            num_iter = len(vocab) // batch_size\n",
    "\n",
    "            for i in range(num_iter):\n",
    "\n",
    "                #TODO: Set the loss to zero, initialize the optimizer with zero_grad at the beginning of each training cycle.\n",
    "                vocab_batch = vocab[i * batch_size : (i + 1) * batch_size]\n",
    "                optimizer.zero_grad()\n",
    "                total_loss = 0  # Accumulate loss over the batch\n",
    "                \n",
    "                for word in vocab_batch:\n",
    "\n",
    "                    #TODO: Initialize the hidden state and cell state at the start of each word.\n",
    "                    hidden_state, cell_state = self.initial_state()\n",
    "\n",
    "                    #TODO: Convert the word into a tensor of number and create input and target from the word\n",
    "                    numlist = word_to_numlist(word)\n",
    "                    # Input: first WORD_SIZE - 1 characters\n",
    "                    # Target: last WORD_SIZE - 1 characters\n",
    "                    inputs = numlist[:-1]   # Exclude last character\n",
    "                    targets = numlist[1:]   # Exclude first character\n",
    "\n",
    "                    #Loop through each character (as a number) in the word\n",
    "                    for c in range(WORD_SIZE - 1):\n",
    "\n",
    "                        input_char = inputs[c].unsqueeze(0)    # Shape: [1]\n",
    "                        target_char = targets[c].unsqueeze(0)  # Shape: [1]\n",
    "                        \n",
    "                        # Feed the cth character to the model (feedforward)\n",
    "                        output, hidden_state, cell_state = self.forward(input_char, hidden_state, cell_state)\n",
    "\n",
    "                        # Compute the loss (use cross-entropy)\n",
    "                        loss = nn.CrossEntropyLoss()(output, target_char)\n",
    "                        total_loss += loss\n",
    "                        \n",
    "                    \n",
    "\n",
    "                #TODO: Compute the average loss per word in the batch and perform backpropagation (.backward())\n",
    "                average_loss = total_loss / (batch_size * (WORD_SIZE - 1))\n",
    "                average_loss.backward()\n",
    "\n",
    "                #TODO: Update model parameters using the optimizer\n",
    "                optimizer.step()\n",
    "\n",
    "                #Update the loss_log \n",
    "                loss_log.append(average_loss.item())\n",
    "\n",
    "            print(f\"Epoch {e+1}/{epochs}, Loss: {average_loss.item():.4f}\")\n",
    "\n",
    "        #TODO Plot a graph of the variation of the loss.\n",
    "        plt.plot(loss_log)\n",
    "        plt.xlabel('Training Iterations')\n",
    "        plt.ylabel('Loss')\n",
    "        plt.title('Training Loss over Time')\n",
    "        plt.show()\n",
    "\n",
    "    #Perform autocmplete given a sample of strings (typically 3-5 starting letters)\n",
    "    def autocomplete(self, sample):\n",
    "\n",
    "        #Convert the model into evaluation mode\n",
    "        self.eval()\n",
    "        completed_list = []\n",
    "        \n",
    "        #TODO: In the following loop for each sample item initialize hidden and cell states, then predict the remaining characters\n",
    "        #You will have to convert the output into a softmax (you may use your softmax method from the last project) probability distribution, then use torch.multinomial \n",
    "        for literal in sample:\n",
    "            hidden_state, cell_state = self.initial_state()\n",
    "            \n",
    "            # Convert the input literal to a tensor of numbers\n",
    "            input_chars = [char_to_num(c) for c in literal]\n",
    "            input_tensor = torch.tensor(input_chars, dtype=torch.long)\n",
    "\n",
    "            # Feed the input characters through the model to update hidden and cell states\n",
    "            for idx in input_tensor:\n",
    "                idx = idx.unsqueeze(0)  # Shape: [1]\n",
    "                output, hidden_state, cell_state = self.forward(idx, hidden_state, cell_state)\n",
    "\n",
    "            # Now, predict the rest of the characters up to WORD_SIZE\n",
    "            predicted_chars = []\n",
    "            current_char = input_tensor[-1]\n",
    "\n",
    "            for _ in range(len(literal), WORD_SIZE):\n",
    "                # Apply softmax to get probabilities\n",
    "                output_probs = nn.functional.softmax(output, dim=1)\n",
    "\n",
    "                # Sample from the distribution\n",
    "                next_char_idx = torch.multinomial(output_probs, num_samples=1).item()\n",
    "\n",
    "                # Append the predicted character index\n",
    "                predicted_chars.append(next_char_idx)\n",
    "\n",
    "                # Prepare next input\n",
    "                input_char = torch.tensor([next_char_idx], dtype=torch.long)\n",
    "\n",
    "                # Feed the next character into the model\n",
    "                output, hidden_state, cell_state = self.forward(input_char, hidden_state, cell_state)\n",
    "\n",
    "            # Convert the predicted character indices to characters\n",
    "            predicted_word = literal + ''.join([num_to_char(idx) for idx in predicted_chars])\n",
    "\n",
    "            # Append the completed word to the list\n",
    "            completed_list.append(predicted_word)\n",
    "        return completed_list\n"
   ]
  },
  {
   "cell_type": "markdown",
   "id": "1f9b5489-b770-4519-b20c-4f2beebfb8f9",
   "metadata": {
    "deletable": false,
    "editable": false
   },
   "source": [
    "## Section 3: Using and evaluating the model\n",
    "\n",
    "(i) Feel free to initialize a autocompleteModel using different embedding dimensions and hidden layer sizes. Use different learning rates, epochs, batch sizes. Train the best model you can. Show the loss curves in you answers.\n",
    "\n",
    "(ii) Evaluate it on different samples of partially filled in words. Eg: [\"univ\", \"math\", \"neur\", \"engin\"] etc. Please show outputs for different samples.\n",
    "\n",
    "<font color='blue'>Comment on the results. Is it successful? Do you see familiar substrings in the generated tesxt such as \"tion\", \"ing\", \"able\" etc. What are your suggestions to improve the model?</font>"
   ]
  },
  {
   "cell_type": "markdown",
   "id": "76c9ee6e-b6bd-4e6e-95fe-2c34b788d433",
   "metadata": {},
   "source": [
    "**Answer** (to write answers edit this cell)"
   ]
  },
  {
   "cell_type": "code",
   "execution_count": 7,
   "id": "f6e16d6b-6460-4fce-8757-aac766683e53",
   "metadata": {},
   "outputs": [],
   "source": [
    "# Set the parameters\n",
    "ALPHABET_SIZE = 27    # 26 letters + underscore\n",
    "EMBED_DIM = 64        # Embedding dimension\n",
    "HIDDEN_SIZE = 128     # Hidden layer size\n",
    "NUM_LAYERS = 1        # Number of LSTM layers\n",
    "EPOCHS = 10           # Number of epochs for training\n",
    "BATCH_SIZE = 100      # Batch size for training"
   ]
  },
  {
   "cell_type": "code",
   "execution_count": 8,
   "id": "c1de4123-5f58-4656-af5a-93c719d1e1ef",
   "metadata": {},
   "outputs": [
    {
     "name": "stdout",
     "output_type": "stream",
     "text": [
      "Epoch 1/10, Loss: 1.2713\n",
      "Epoch 2/10, Loss: 1.2029\n",
      "Epoch 3/10, Loss: 1.1013\n",
      "Epoch 4/10, Loss: 1.0788\n",
      "Epoch 5/10, Loss: 1.0217\n",
      "Epoch 6/10, Loss: 0.9779\n",
      "Epoch 7/10, Loss: 0.9657\n",
      "Epoch 8/10, Loss: 0.9003\n",
      "Epoch 9/10, Loss: 0.9061\n",
      "Epoch 10/10, Loss: 0.9012\n"
     ]
    },
    {
     "data": {
      "image/png": "[encoded data removed]",
      "text/plain": [
       "<Figure size 640x480 with 1 Axes>"
      ]
     },
     "metadata": {},
     "output_type": "display_data"
    }
   ],
   "source": [
    "# Train the model\n",
    "model = autocompleteModel(ALPHABET_SIZE, EMBED_DIM, HIDDEN_SIZE, NUM_LAYERS)\n",
    "model.trainModel(vocab, epochs=EPOCHS, batch_size=BATCH_SIZE)"
   ]
  },
  {
   "cell_type": "markdown",
   "id": "0d600936-b185-48c5-87a8-d67e786fab98",
   "metadata": {},
   "source": [
    "Let's Evaluate the Model on Sample Inputs"
   ]
  },
  {
   "cell_type": "code",
   "execution_count": 14,
   "id": "29971412-16a2-455a-8a4e-ad51d57a7737",
   "metadata": {},
   "outputs": [
    {
     "name": "stdout",
     "output_type": "stream",
     "text": [
      "Autocomplete Results:\n",
      "Input:\t-> \tCompleted:\n",
      "fam\t-> \t fame_________ \t (In Vocab)\n",
      "compeni\t-> \t compenibilit_ \t \n",
      "dic\t-> \t dictionary___ \t (In Vocab)\n",
      "wee\t-> \t weekings_____ \t \n",
      "chea\t-> \t cheats_______ \t (In Vocab)\n",
      "univ\t-> \t univentary___ \t \n",
      "math\t-> \t mathmostals__ \t \n",
      "neur\t-> \t neurmals_____ \t \n",
      "engin\t-> \t engin________ \t \n",
      "compu\t-> \t computers____ \t (In Vocab)\n",
      "bio\t-> \t bioniors_____ \t \n",
      "artifi\t-> \t artification_ \t \n",
      "trans\t-> \t transter_____ \t \n",
      "psychol\t-> \t psychology___ \t (In Vocab)\n",
      "philos\t-> \t philosms_____ \t \n",
      "5/15 | 33.33333333333333%\n"
     ]
    }
   ],
   "source": [
    "# Sample inputs for testing to get an idea\n",
    "samples = ['fam' ,'com' 'peni' ,'dic' ,'wee', 'chea', 'univ', 'math', 'neur', 'engin', 'compu', 'bio', 'artifi', 'trans', 'psychol', 'philos']\n",
    "\n",
    "completed_words = model.autocomplete(samples)\n",
    "\n",
    "print(\"Autocomplete Results:\")\n",
    "print(f\"Input:\\t-> \\tCompleted:\")\n",
    "correct = 0\n",
    "for i, sample in enumerate(samples):\n",
    "    msg = \"\"\n",
    "    if completed_words[i] in vocab:\n",
    "        msg = \"(In Vocab)\"\n",
    "        correct += 1\n",
    "        \n",
    "    print(f\"{sample}\\t-> \\t {completed_words[i]} \\t {msg}\")\n",
    "    \n",
    "print(f\"{correct}/{len(samples)} | {correct/len(samples)*100}%\")\n",
    "\n",
    "\n"
   ]
  },
  {
   "cell_type": "markdown",
   "id": "a5be220f-4494-47af-8dd9-101256488995",
   "metadata": {},
   "source": [
    " **Answer:**\n",
    " \n",
    " The loss decreasing to around 0.9 over 10 epochs indicates that the model is learning patterns from the data. \n",
    " And the generated text likely includes familiar substrings like \"tion\", \"ing\", and \"able\", which suggests the model has captured common English word endings and morphological patterns. \n",
    " 0.9 loss shows that the training is successful, but also sample results shows that many words are incorrect, but happy to see familiar substrings at the end or words. \n",
    "\n",
    " Suggestions to Improve the Model:\n",
    " \n",
    "     1.Use Larger Dataset\n",
    "     2.Train for More Epochs\n",
    "     3.Learning Rate Adjustment also can done\n",
    "     4.Hyperparameter Tuning - Systematically adjust hyperparameters like batch size, embedding dimension, and hidden size to find the optimal configuration. I tried with several combinations for getting minimun loss and was able to get about 0.9 loss decreasing   \n",
    " "
   ]
  }
 ],
 "metadata": {
  "kernelspec": {
   "display_name": "Python 3 (ipykernel)",
   "language": "python",
   "name": "python3"
  },
  "language_info": {
   "codemirror_mode": {
    "name": "ipython",
    "version": 3
   },
   "file_extension": ".py",
   "mimetype": "text/x-python",
   "name": "python",
   "nbconvert_exporter": "python",
   "pygments_lexer": "ipython3",
   "version": "3.12.3"
  }
 },
 "nbformat": 4,
 "nbformat_minor": 5
}
